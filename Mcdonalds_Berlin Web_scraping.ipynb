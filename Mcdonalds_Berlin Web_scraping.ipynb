{
 "cells": [
  {
   "cell_type": "code",
   "execution_count": 6,
   "id": "3db6068c-11b0-4d75-9fa7-42fd6bcfda7e",
   "metadata": {},
   "outputs": [],
   "source": [
    "from bs4 import BeautifulSoup\n",
    "from selenium import webdriver\n",
    "from selenium.webdriver.chrome.service import Service\n",
    "from selenium.webdriver.common.by import By\n",
    "from time import sleep\n",
    "import csv"
   ]
  },
  {
   "cell_type": "code",
   "execution_count": 10,
   "id": "032beeb5-cc1c-49ae-a5f0-6fcc4111a768",
   "metadata": {},
   "outputs": [],
   "source": [
    "s = Service('C:/Users/Athar/Downloads/chromedriver-win64/chromedriver-win64/chromedriver.exe')\n",
    "driver = webdriver.Chrome(service = s)\n",
    "driver.get('https://www.mcdonalds.com/de/de-de/restaurant-suche.html/l/berlin')\n",
    "sleep(10)\n",
    "page = driver.page_source\n",
    "soup = BeautifulSoup(page, 'lxml')\n",
    "content = soup.find('ul', class_=\"ubsf_sitemap-list\")\n",
    "restaurants = soup.find_all('div', class_=\"ubsf_sitemap-location-address\")\n"
   ]
  },
  {
   "cell_type": "code",
   "execution_count": 11,
   "id": "ed737f00-c6bf-4443-8799-0a2e47a144bb",
   "metadata": {},
   "outputs": [
    {
     "data": {
      "text/plain": [
       "[<div class=\"ubsf_sitemap-location-address\">Alexanderplatz 1, 10178 Berlin, DE</div>,\n",
       " <div class=\"ubsf_sitemap-location-address\">Europaplatz 1, 10557 Berlin, DE</div>,\n",
       " <div class=\"ubsf_sitemap-location-address\">Walther-Schreiber-Platz 1, 12161 Berlin, DE</div>,\n",
       " <div class=\"ubsf_sitemap-location-address\">Hansastraße 1, 13053 Berlin, DE</div>,\n",
       " <div class=\"ubsf_sitemap-location-address\">Hanne-Sobek-Platz 1, 13357 Berlin, DE</div>,\n",
       " <div class=\"ubsf_sitemap-location-address\">Grunerstraße 20, 10179 Berlin, DE</div>,\n",
       " <div class=\"ubsf_sitemap-location-address\">Osloer Straße, 13359 Berlin, DE</div>,\n",
       " <div class=\"ubsf_sitemap-location-address\">Schnellerstraße 21, 12439 Berlin, DE</div>,\n",
       " <div class=\"ubsf_sitemap-location-address\">Alboinstraße 4, 12103 Berlin, DE</div>,\n",
       " <div class=\"ubsf_sitemap-location-address\">Weitlingstraße 22, 10317 Berlin, DE</div>,\n",
       " <div class=\"ubsf_sitemap-location-address\">Großbeerenstraße 22, 12107 Berlin, DE</div>,\n",
       " <div class=\"ubsf_sitemap-location-address\">Wrangelstraße 35, 10997 Berlin, DE</div>,\n",
       " <div class=\"ubsf_sitemap-location-address\">Sonntagsstraße 37, 10245 Berlin, DE</div>,\n",
       " <div class=\"ubsf_sitemap-location-address\">Kurt-Schumacher-Damm 38, 13405 Berlin, DE</div>,\n",
       " <div class=\"ubsf_sitemap-location-address\">Prenzlauer Promenade 45, 13089 Berlin, DE</div>,\n",
       " <div class=\"ubsf_sitemap-location-address\">Wendenschloßstraße 2, 12559 Berlin, DE</div>,\n",
       " <div class=\"ubsf_sitemap-location-address\">Charlottenburger Chaussee 49, 13597 Berlin, DE</div>,\n",
       " <div class=\"ubsf_sitemap-location-address\">Am Borsigturm 2, 13507 Berlin, DE</div>,\n",
       " <div class=\"ubsf_sitemap-location-address\">Am Ostbahnhof 9, 10243 Berlin, DE</div>,\n",
       " <div class=\"ubsf_sitemap-location-address\">Bitterfelder Straße 9, 12681 Berlin, DE</div>,\n",
       " <div class=\"ubsf_sitemap-location-address\">Alt-Mahlsdorf 60, 12623 Berlin, DE</div>,\n",
       " <div class=\"ubsf_sitemap-location-address\">Alt-Friedrichsfelde 61, 10315 Berlin, DE</div>,\n",
       " <div class=\"ubsf_sitemap-location-address\">Werner-Voß-Damm 62, 12101 Berlin, DE</div>,\n",
       " <div class=\"ubsf_sitemap-location-address\">Karl-Marx-Straße 66, 12043 Berlin, DE</div>,\n",
       " <div class=\"ubsf_sitemap-location-address\">Greifswalder Straße 80, 10405 Berlin, DE</div>,\n",
       " <div class=\"ubsf_sitemap-location-address\">Klosterstraße 3, 13581 Berlin, DE</div>,\n",
       " <div class=\"ubsf_sitemap-location-address\">Saalestraße 83, 12055 Berlin, DE</div>,\n",
       " <div class=\"ubsf_sitemap-location-address\">Markstraße 16, 13409 Berlin, DE</div>,\n",
       " <div class=\"ubsf_sitemap-location-address\">Rudower Straße 100, 12351 Berlin, DE</div>,\n",
       " <div class=\"ubsf_sitemap-location-address\">Frankfurter Allee 117, 10247 Berlin, DE</div>,\n",
       " <div class=\"ubsf_sitemap-location-address\">Clayallee 121, 14195 Berlin, DE</div>,\n",
       " <div class=\"ubsf_sitemap-location-address\">Friedrichstraße 207, 10969 Berlin, DE</div>,\n",
       " <div class=\"ubsf_sitemap-location-address\">Sonnenallee 254, 12057 Berlin, DE</div>,\n",
       " <div class=\"ubsf_sitemap-location-address\">Heerstraße 666, 13591 Berlin, DE</div>,\n",
       " <div class=\"ubsf_sitemap-location-address\">Leipziger Platz 12-13, 10117 Berlin, DE</div>,\n",
       " <div class=\"ubsf_sitemap-location-address\">Hermannplatz 2-3, 10967 Berlin, DE</div>,\n",
       " <div class=\"ubsf_sitemap-location-address\">Kantstraße 111a, 10627 Berlin, DE</div>,\n",
       " <div class=\"ubsf_sitemap-location-address\">Osdorfer Str. 125a, 12207 Berlin, DE</div>,\n",
       " <div class=\"ubsf_sitemap-location-address\">Friedrichstraße 141-142, 10117 Berlin, DE</div>,\n",
       " <div class=\"ubsf_sitemap-location-address\">Friedrichstraße 141-142, 10117 Berlin, DE</div>,\n",
       " <div class=\"ubsf_sitemap-location-address\">Marzahner Promenade 1a, 12679 Berlin, DE</div>,\n",
       " <div class=\"ubsf_sitemap-location-address\">Adlergestell 289a, 12489 Berlin, DE</div>,\n",
       " <div class=\"ubsf_sitemap-location-address\">Am Juliusturm 40-46, 13599 Berlin, DE</div>,\n",
       " <div class=\"ubsf_sitemap-location-address\">Mecklenburgische Straße 65-68, 14197 Berlin, DE</div>,\n",
       " <div class=\"ubsf_sitemap-location-address\">Hardenbergplatz 11, 10623 Berlin, DE</div>,\n",
       " <div class=\"ubsf_sitemap-location-address\">Tauentzienstraße 9-12, 10789 Berlin, DE</div>]"
      ]
     },
     "execution_count": 11,
     "metadata": {},
     "output_type": "execute_result"
    }
   ],
   "source": [
    "restaurants"
   ]
  },
  {
   "cell_type": "code",
   "execution_count": 13,
   "id": "a40e016f-665d-4373-9b23-a9125b4c253f",
   "metadata": {},
   "outputs": [],
   "source": [
    "with open('restaurant.csv', mode='w', newline='') as outputfile:\n",
    "    restaurantCSV = csv.writer(outputfile, delimiter=',', quotechar='\"', quoting=csv.QUOTE_MINIMAL)\n",
    "    restaurantCSV.writerow(['restaurant', 'street', 'zip', 'city', 'country'])\n",
    "    for rest in restaurants:\n",
    "        name = 'McDonalds'  # Assuming the restaurant name is always McDonalds\n",
    "        street = rest.text.split(\",\")[0].strip()\n",
    "        zip_code = rest.text.split(\",\")[1].strip()\n",
    "        city = 'Berlin'\n",
    "        country = 'Germany'\n",
    "        restaurantCSV.writerow([name, street, zip_code, city, country])\n",
    "\n",
    "driver.close()"
   ]
  },
  {
   "cell_type": "code",
   "execution_count": null,
   "id": "48d32d8d-b753-4e33-85b5-a43a31b841b5",
   "metadata": {},
   "outputs": [],
   "source": []
  }
 ],
 "metadata": {
  "kernelspec": {
   "display_name": "Python 3 (ipykernel)",
   "language": "python",
   "name": "python3"
  },
  "language_info": {
   "codemirror_mode": {
    "name": "ipython",
    "version": 3
   },
   "file_extension": ".py",
   "mimetype": "text/x-python",
   "name": "python",
   "nbconvert_exporter": "python",
   "pygments_lexer": "ipython3",
   "version": "3.12.3"
  }
 },
 "nbformat": 4,
 "nbformat_minor": 5
}
